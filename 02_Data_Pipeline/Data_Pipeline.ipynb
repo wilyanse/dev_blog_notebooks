{
 "cells": [
  {
   "cell_type": "code",
   "execution_count": 6,
   "metadata": {},
   "outputs": [],
   "source": [
    "import pandas as pd\n",
    "from sqlalchemy import create_engine\n",
    "from dotenv import load_dotenv\n",
    "import os\n",
    "import re"
   ]
  },
  {
   "cell_type": "code",
   "execution_count": 2,
   "metadata": {},
   "outputs": [],
   "source": [
    "# Specify the directory containing CSV files\n",
    "csv_directory_path = r\"E:\\Code\\data_blog\\blog_files\\data\"\n",
    "\n",
    "# List all files in the directory\n",
    "all_files = os.listdir(csv_directory_path)\n",
    "specific_csv_files = [f for f in all_files if f.endswith('.csv')]\n",
    "\n",
    "# Create a list of full file paths for the specific CSV files\n",
    "specific_csv_paths = [os.path.join(csv_directory_path, f) for f in specific_csv_files]"
   ]
  },
  {
   "cell_type": "code",
   "execution_count": 17,
   "metadata": {},
   "outputs": [],
   "source": [
    "df = pd.read_csv(specific_csv_paths[1])"
   ]
  },
  {
   "cell_type": "code",
   "execution_count": 18,
   "metadata": {},
   "outputs": [
    {
     "data": {
      "text/plain": [
       "Index(['Date', 'Energy (kcal)', 'Alcohol (g)', 'Caffeine (mg)', 'Water (g)',\n",
       "       'B1 (Thiamine) (mg)', 'B2 (Riboflavin) (mg)', 'B3 (Niacin) (mg)',\n",
       "       'B5 (Pantothenic Acid) (mg)', 'B6 (Pyridoxine) (mg)',\n",
       "       'B12 (Cobalamin) (µg)', 'Folate (µg)', 'Vitamin A (µg)',\n",
       "       'Vitamin C (mg)', 'Vitamin D (IU)', 'Vitamin E (mg)', 'Vitamin K (µg)',\n",
       "       'Calcium (mg)', 'Copper (mg)', 'Iron (mg)', 'Magnesium (mg)',\n",
       "       'Manganese (mg)', 'Phosphorus (mg)', 'Potassium (mg)', 'Selenium (µg)',\n",
       "       'Sodium (mg)', 'Zinc (mg)', 'Carbs (g)', 'Fiber (g)', 'Starch (g)',\n",
       "       'Sugars (g)', 'Added Sugars (g)', 'Net Carbs (g)', 'Fat (g)',\n",
       "       'Cholesterol (mg)', 'Monounsaturated (g)', 'Polyunsaturated (g)',\n",
       "       'Saturated (g)', 'Trans-Fats (g)', 'Omega-3 (g)', 'Omega-6 (g)',\n",
       "       'Cystine (g)', 'Histidine (g)', 'Isoleucine (g)', 'Leucine (g)',\n",
       "       'Lysine (g)', 'Methionine (g)', 'Phenylalanine (g)', 'Protein (g)',\n",
       "       'Threonine (g)', 'Tryptophan (g)', 'Tyrosine (g)', 'Valine (g)',\n",
       "       'Completed'],\n",
       "      dtype='object')"
      ]
     },
     "execution_count": 18,
     "metadata": {},
     "output_type": "execute_result"
    }
   ],
   "source": [
    "df.columns"
   ]
  },
  {
   "cell_type": "code",
   "execution_count": 19,
   "metadata": {},
   "outputs": [],
   "source": [
    "# Function to transform a single column name\n",
    "def transform_column_name(col_name):\n",
    "    col_name = col_name.lower()\n",
    "    col_name = re.sub(r' ', '_', col_name)\n",
    "    col_name = re.sub(r'[^a-z0-9_]', '', col_name)\n",
    "    if not re.match(r'^[a-z_]', col_name):\n",
    "        col_name = f'_{col_name}'\n",
    "    col_name = col_name[:128]\n",
    "    return col_name\n",
    "\n",
    "new_column_names = [transform_column_name(col) for col in df.columns]\n",
    "df.columns = new_column_names"
   ]
  },
  {
   "cell_type": "code",
   "execution_count": 20,
   "metadata": {},
   "outputs": [
    {
     "data": {
      "text/plain": [
       "Index(['date', 'energy_kcal', 'alcohol_g', 'caffeine_mg', 'water_g',\n",
       "       'b1_thiamine_mg', 'b2_riboflavin_mg', 'b3_niacin_mg',\n",
       "       'b5_pantothenic_acid_mg', 'b6_pyridoxine_mg', 'b12_cobalamin_g',\n",
       "       'folate_g', 'vitamin_a_g', 'vitamin_c_mg', 'vitamin_d_iu',\n",
       "       'vitamin_e_mg', 'vitamin_k_g', 'calcium_mg', 'copper_mg', 'iron_mg',\n",
       "       'magnesium_mg', 'manganese_mg', 'phosphorus_mg', 'potassium_mg',\n",
       "       'selenium_g', 'sodium_mg', 'zinc_mg', 'carbs_g', 'fiber_g', 'starch_g',\n",
       "       'sugars_g', 'added_sugars_g', 'net_carbs_g', 'fat_g', 'cholesterol_mg',\n",
       "       'monounsaturated_g', 'polyunsaturated_g', 'saturated_g', 'transfats_g',\n",
       "       'omega3_g', 'omega6_g', 'cystine_g', 'histidine_g', 'isoleucine_g',\n",
       "       'leucine_g', 'lysine_g', 'methionine_g', 'phenylalanine_g', 'protein_g',\n",
       "       'threonine_g', 'tryptophan_g', 'tyrosine_g', 'valine_g', 'completed'],\n",
       "      dtype='object')"
      ]
     },
     "execution_count": 20,
     "metadata": {},
     "output_type": "execute_result"
    }
   ],
   "source": [
    "df.columns"
   ]
  },
  {
   "cell_type": "code",
   "execution_count": null,
   "metadata": {},
   "outputs": [],
   "source": [
    "# Step 2: Establish connection to PostgreSQL\n",
    "username = 'your_username'\n",
    "password = 'your_password'\n",
    "host = 'localhost'\n",
    "port = '5432'\n",
    "database = 'your_database_name'\n",
    "connection_string = f'postgresql+psycopg2://{username}:{password}@{host}:{port}/{database}'\n",
    "engine = create_engine(connection_string)\n",
    "\n",
    "# Step 3: Load DataFrame into PostgreSQL table\n",
    "table_name = 'your_table_name'\n",
    "df.to_sql(table_name, engine, if_exists='replace', index=False)"
   ]
  }
 ],
 "metadata": {
  "kernelspec": {
   "display_name": ".venv",
   "language": "python",
   "name": "python3"
  },
  "language_info": {
   "codemirror_mode": {
    "name": "ipython",
    "version": 3
   },
   "file_extension": ".py",
   "mimetype": "text/x-python",
   "name": "python",
   "nbconvert_exporter": "python",
   "pygments_lexer": "ipython3",
   "version": "3.12.2"
  }
 },
 "nbformat": 4,
 "nbformat_minor": 2
}
