{
 "cells": [
  {
   "cell_type": "code",
   "execution_count": 1,
   "metadata": {},
   "outputs": [],
   "source": [
    "import pandas as pd\n",
    "from sqlalchemy import create_engine\n",
    "from dotenv import load_dotenv\n",
    "import os\n",
    "import re"
   ]
  },
  {
   "cell_type": "code",
   "execution_count": 2,
   "metadata": {},
   "outputs": [],
   "source": [
    "# Specify the directory containing CSV files\n",
    "csv_directory_path = r\"E:\\Code\\data_blog\\blog_files\\data\"\n",
    "\n",
    "# List all files in the directory\n",
    "all_files = os.listdir(csv_directory_path)\n",
    "specific_csv_files = [f for f in all_files if f.endswith('.csv')]\n",
    "\n",
    "# Create a list of full file paths for the specific CSV files\n",
    "specific_csv_paths = [os.path.join(csv_directory_path, f) for f in specific_csv_files]"
   ]
  },
  {
   "cell_type": "code",
   "execution_count": 3,
   "metadata": {},
   "outputs": [],
   "source": [
    "df = pd.read_csv(specific_csv_paths[2])"
   ]
  },
  {
   "cell_type": "code",
   "execution_count": 4,
   "metadata": {},
   "outputs": [
    {
     "data": {
      "text/plain": [
       "Index(['Day', 'Group', 'Food Name', 'Amount', 'Energy (kcal)', 'Alcohol (g)',\n",
       "       'Caffeine (mg)', 'Water (g)', 'B1 (Thiamine) (mg)',\n",
       "       'B2 (Riboflavin) (mg)', 'B3 (Niacin) (mg)',\n",
       "       'B5 (Pantothenic Acid) (mg)', 'B6 (Pyridoxine) (mg)',\n",
       "       'B12 (Cobalamin) (µg)', 'Folate (µg)', 'Vitamin A (µg)',\n",
       "       'Vitamin C (mg)', 'Vitamin D (IU)', 'Vitamin E (mg)', 'Vitamin K (µg)',\n",
       "       'Calcium (mg)', 'Copper (mg)', 'Iron (mg)', 'Magnesium (mg)',\n",
       "       'Manganese (mg)', 'Phosphorus (mg)', 'Potassium (mg)', 'Selenium (µg)',\n",
       "       'Sodium (mg)', 'Zinc (mg)', 'Carbs (g)', 'Fiber (g)', 'Starch (g)',\n",
       "       'Sugars (g)', 'Added Sugars (g)', 'Net Carbs (g)', 'Fat (g)',\n",
       "       'Cholesterol (mg)', 'Monounsaturated (g)', 'Polyunsaturated (g)',\n",
       "       'Saturated (g)', 'Trans-Fats (g)', 'Omega-3 (g)', 'Omega-6 (g)',\n",
       "       'Cystine (g)', 'Histidine (g)', 'Isoleucine (g)', 'Leucine (g)',\n",
       "       'Lysine (g)', 'Methionine (g)', 'Phenylalanine (g)', 'Protein (g)',\n",
       "       'Threonine (g)', 'Tryptophan (g)', 'Tyrosine (g)', 'Valine (g)',\n",
       "       'Category'],\n",
       "      dtype='object')"
      ]
     },
     "execution_count": 4,
     "metadata": {},
     "output_type": "execute_result"
    }
   ],
   "source": [
    "df.columns"
   ]
  },
  {
   "cell_type": "code",
   "execution_count": 5,
   "metadata": {},
   "outputs": [],
   "source": [
    "# Function to transform a single column name\n",
    "def transform_column_name(col_name):\n",
    "    col_name = col_name.lower()\n",
    "    col_name = re.sub(r' ', '_', col_name)\n",
    "    col_name = re.sub(r'[^a-z0-9_]', '', col_name)\n",
    "    if not re.match(r'^[a-z_]', col_name):\n",
    "        col_name = f'_{col_name}'\n",
    "    col_name = col_name[:128]\n",
    "    return col_name\n",
    "\n",
    "new_column_names = [transform_column_name(col) for col in df.columns]\n",
    "df.columns = new_column_names"
   ]
  },
  {
   "cell_type": "code",
   "execution_count": 6,
   "metadata": {},
   "outputs": [
    {
     "data": {
      "text/plain": [
       "Index(['day', 'group', 'food_name', 'amount', 'energy_kcal', 'alcohol_g',\n",
       "       'caffeine_mg', 'water_g', 'b1_thiamine_mg', 'b2_riboflavin_mg',\n",
       "       'b3_niacin_mg', 'b5_pantothenic_acid_mg', 'b6_pyridoxine_mg',\n",
       "       'b12_cobalamin_g', 'folate_g', 'vitamin_a_g', 'vitamin_c_mg',\n",
       "       'vitamin_d_iu', 'vitamin_e_mg', 'vitamin_k_g', 'calcium_mg',\n",
       "       'copper_mg', 'iron_mg', 'magnesium_mg', 'manganese_mg', 'phosphorus_mg',\n",
       "       'potassium_mg', 'selenium_g', 'sodium_mg', 'zinc_mg', 'carbs_g',\n",
       "       'fiber_g', 'starch_g', 'sugars_g', 'added_sugars_g', 'net_carbs_g',\n",
       "       'fat_g', 'cholesterol_mg', 'monounsaturated_g', 'polyunsaturated_g',\n",
       "       'saturated_g', 'transfats_g', 'omega3_g', 'omega6_g', 'cystine_g',\n",
       "       'histidine_g', 'isoleucine_g', 'leucine_g', 'lysine_g', 'methionine_g',\n",
       "       'phenylalanine_g', 'protein_g', 'threonine_g', 'tryptophan_g',\n",
       "       'tyrosine_g', 'valine_g', 'category'],\n",
       "      dtype='object')"
      ]
     },
     "execution_count": 6,
     "metadata": {},
     "output_type": "execute_result"
    }
   ],
   "source": [
    "df.columns"
   ]
  },
  {
   "cell_type": "code",
   "execution_count": 7,
   "metadata": {},
   "outputs": [
    {
     "name": "stdout",
     "output_type": "stream",
     "text": [
      "<class 'pandas.core.frame.DataFrame'>\n",
      "RangeIndex: 675 entries, 0 to 674\n",
      "Data columns (total 57 columns):\n",
      " #   Column                  Non-Null Count  Dtype  \n",
      "---  ------                  --------------  -----  \n",
      " 0   day                     675 non-null    object \n",
      " 1   group                   675 non-null    object \n",
      " 2   food_name               675 non-null    object \n",
      " 3   amount                  675 non-null    object \n",
      " 4   energy_kcal             653 non-null    float64\n",
      " 5   alcohol_g               373 non-null    float64\n",
      " 6   caffeine_mg             420 non-null    float64\n",
      " 7   water_g                 465 non-null    float64\n",
      " 8   b1_thiamine_mg          456 non-null    float64\n",
      " 9   b2_riboflavin_mg        452 non-null    float64\n",
      " 10  b3_niacin_mg            452 non-null    float64\n",
      " 11  b5_pantothenic_acid_mg  401 non-null    float64\n",
      " 12  b6_pyridoxine_mg        421 non-null    float64\n",
      " 13  b12_cobalamin_g         394 non-null    float64\n",
      " 14  folate_g                432 non-null    float64\n",
      " 15  vitamin_a_g             431 non-null    float64\n",
      " 16  vitamin_c_mg            436 non-null    float64\n",
      " 17  vitamin_d_iu            402 non-null    float64\n",
      " 18  vitamin_e_mg            371 non-null    float64\n",
      " 19  vitamin_k_g             369 non-null    float64\n",
      " 20  calcium_mg              506 non-null    float64\n",
      " 21  copper_mg               399 non-null    float64\n",
      " 22  iron_mg                 502 non-null    float64\n",
      " 23  magnesium_mg            433 non-null    float64\n",
      " 24  manganese_mg            399 non-null    float64\n",
      " 25  phosphorus_mg           420 non-null    float64\n",
      " 26  potassium_mg            437 non-null    float64\n",
      " 27  selenium_g              381 non-null    float64\n",
      " 28  sodium_mg               647 non-null    float64\n",
      " 29  zinc_mg                 445 non-null    float64\n",
      " 30  carbs_g                 669 non-null    float64\n",
      " 31  fiber_g                 588 non-null    float64\n",
      " 32  starch_g                370 non-null    float64\n",
      " 33  sugars_g                639 non-null    float64\n",
      " 34  added_sugars_g          383 non-null    float64\n",
      " 35  net_carbs_g             669 non-null    float64\n",
      " 36  fat_g                   675 non-null    float64\n",
      " 37  cholesterol_mg          585 non-null    float64\n",
      " 38  monounsaturated_g       406 non-null    float64\n",
      " 39  polyunsaturated_g       406 non-null    float64\n",
      " 40  saturated_g             624 non-null    float64\n",
      " 41  transfats_g             584 non-null    float64\n",
      " 42  omega3_g                406 non-null    float64\n",
      " 43  omega6_g                399 non-null    float64\n",
      " 44  cystine_g               410 non-null    float64\n",
      " 45  histidine_g             410 non-null    float64\n",
      " 46  isoleucine_g            410 non-null    float64\n",
      " 47  leucine_g               410 non-null    float64\n",
      " 48  lysine_g                410 non-null    float64\n",
      " 49  methionine_g            410 non-null    float64\n",
      " 50  phenylalanine_g         410 non-null    float64\n",
      " 51  protein_g               670 non-null    float64\n",
      " 52  threonine_g             410 non-null    float64\n",
      " 53  tryptophan_g            411 non-null    float64\n",
      " 54  tyrosine_g              410 non-null    float64\n",
      " 55  valine_g                410 non-null    float64\n",
      " 56  category                519 non-null    object \n",
      "dtypes: float64(52), object(5)\n",
      "memory usage: 300.7+ KB\n"
     ]
    }
   ],
   "source": [
    "df.info()"
   ]
  },
  {
   "cell_type": "code",
   "execution_count": 12,
   "metadata": {},
   "outputs": [
    {
     "ename": "ModuleNotFoundError",
     "evalue": "No module named 'blog_files'",
     "output_type": "error",
     "traceback": [
      "\u001b[1;31m---------------------------------------------------------------------------\u001b[0m",
      "\u001b[1;31mModuleNotFoundError\u001b[0m                       Traceback (most recent call last)",
      "Cell \u001b[1;32mIn[12], line 1\u001b[0m\n\u001b[1;32m----> 1\u001b[0m \u001b[38;5;28;01mfrom\u001b[39;00m \u001b[38;5;21;01mblog_files\u001b[39;00m\u001b[38;5;21;01m.\u001b[39;00m\u001b[38;5;21;01mhelpers\u001b[39;00m\u001b[38;5;21;01m.\u001b[39;00m\u001b[38;5;21;01mdatabase_manager\u001b[39;00m \u001b[38;5;28;01mimport\u001b[39;00m DatabaseManager\n",
      "\u001b[1;31mModuleNotFoundError\u001b[0m: No module named 'blog_files'"
     ]
    }
   ],
   "source": [
    "from helpers.database_manager import DatabaseManager"
   ]
  }
 ],
 "metadata": {
  "kernelspec": {
   "display_name": ".venv",
   "language": "python",
   "name": "python3"
  },
  "language_info": {
   "codemirror_mode": {
    "name": "ipython",
    "version": 3
   },
   "file_extension": ".py",
   "mimetype": "text/x-python",
   "name": "python",
   "nbconvert_exporter": "python",
   "pygments_lexer": "ipython3",
   "version": "3.12.2"
  }
 },
 "nbformat": 4,
 "nbformat_minor": 2
}
